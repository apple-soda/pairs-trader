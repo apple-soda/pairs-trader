{
 "cells": [
  {
   "cell_type": "code",
   "execution_count": 1,
   "id": "4200f5c9-9682-4dbf-b6da-2e71e9b8c414",
   "metadata": {},
   "outputs": [],
   "source": [
    "import pandas as pd\n",
    "import seaborn as sns\n",
    "from tools import *"
   ]
  },
  {
   "cell_type": "code",
   "execution_count": 2,
   "id": "ade33081-f138-47d3-87a1-ac3f8b8f7d95",
   "metadata": {},
   "outputs": [],
   "source": [
    "df = pd.read_csv('data/crypto_1m.csv', index_col='unix')\n",
    "df = df[-60*24*2:-60*24*1] # pick highest cointegrated pairs from t-24 hours"
   ]
  },
  {
   "cell_type": "code",
   "execution_count": 3,
   "id": "45d824f3-3d94-49be-86e0-5cd95f18065f",
   "metadata": {},
   "outputs": [
    {
     "data": {
      "text/plain": [
       "<AxesSubplot:>"
      ]
     },
     "execution_count": 3,
     "metadata": {},
     "output_type": "execute_result"
    },
    {
     "data": {
      "image/png": "[encoded data removed]",
      "text/plain": [
       "<Figure size 432x288 with 2 Axes>"
      ]
     },
     "metadata": {
      "needs_background": "light"
     },
     "output_type": "display_data"
    }
   ],
   "source": [
    "corr = df.corr()\n",
    "sns.heatmap(corr)"
   ]
  },
  {
   "cell_type": "code",
   "execution_count": 4,
   "id": "582caf23-94a1-4253-9122-93f763aaaf7a",
   "metadata": {},
   "outputs": [
    {
     "data": {
      "text/plain": [
       "272"
      ]
     },
     "execution_count": 4,
     "metadata": {},
     "output_type": "execute_result"
    }
   ],
   "source": [
    "n = corr.shape[0]\n",
    "total_pairs = n**2 - n\n",
    "total_pairs"
   ]
  },
  {
   "cell_type": "code",
   "execution_count": 5,
   "id": "2fcd5b20-daa4-46f0-89c1-308653dd4dff",
   "metadata": {},
   "outputs": [
    {
     "data": {
      "text/plain": [
       "btc   eth     0.937012\n",
       "btt   trx     0.924215\n",
       "xrp   eos     0.922190\n",
       "bnb   xrp     0.906262\n",
       "btt   zec     0.897158\n",
       "                ...   \n",
       "xrp   ltc     0.413927\n",
       "zec   ltc     0.404766\n",
       "eth   qtum    0.380890\n",
       "qtum  btc     0.367184\n",
       "      btt     0.365466\n",
       "Length: 100, dtype: float64"
      ]
     },
     "execution_count": 5,
     "metadata": {},
     "output_type": "execute_result"
    }
   ],
   "source": [
    "def get_top_n_corr(corr, n):\n",
    "    return corr.unstack().sort_values(ascending=False)[corr.shape[0]:corr.shape[0]+n*2][::2]\n",
    "top_corr = get_top_n_corr(corr, 100)\n",
    "top_corr"
   ]
  },
  {
   "cell_type": "code",
   "execution_count": 6,
   "id": "43cbd247-4407-4d9c-b486-9c4791f284b2",
   "metadata": {},
   "outputs": [],
   "source": [
    "p_values = []\n",
    "for i, j in list(top_corr.axes[0]):\n",
    "    pair = i + ' ' + j\n",
    "    b1, b0, adf_p = fit_model(df[i], df[j])\n",
    "    p_values.append({'pair':pair, 'p_value':adf_p})"
   ]
  },
  {
   "cell_type": "code",
   "execution_count": 7,
   "id": "3c172e4e-0e59-4baf-a111-58799179be99",
   "metadata": {},
   "outputs": [
    {
     "data": {
      "text/html": [
       "<div>\n",
       "<style scoped>\n",
       "    .dataframe tbody tr th:only-of-type {\n",
       "        vertical-align: middle;\n",
       "    }\n",
       "\n",
       "    .dataframe tbody tr th {\n",
       "        vertical-align: top;\n",
       "    }\n",
       "\n",
       "    .dataframe thead th {\n",
       "        text-align: right;\n",
       "    }\n",
       "</style>\n",
       "<table border=\"1\" class=\"dataframe\">\n",
       "  <thead>\n",
       "    <tr style=\"text-align: right;\">\n",
       "      <th></th>\n",
       "      <th>pair</th>\n",
       "      <th>p_value</th>\n",
       "    </tr>\n",
       "  </thead>\n",
       "  <tbody>\n",
       "    <tr>\n",
       "      <th>1</th>\n",
       "      <td>btt trx</td>\n",
       "      <td>0.000198</td>\n",
       "    </tr>\n",
       "    <tr>\n",
       "      <th>69</th>\n",
       "      <td>link xmr</td>\n",
       "      <td>0.000622</td>\n",
       "    </tr>\n",
       "    <tr>\n",
       "      <th>15</th>\n",
       "      <td>neo etc</td>\n",
       "      <td>0.002400</td>\n",
       "    </tr>\n",
       "    <tr>\n",
       "      <th>46</th>\n",
       "      <td>xlm ltc</td>\n",
       "      <td>0.003382</td>\n",
       "    </tr>\n",
       "    <tr>\n",
       "      <th>4</th>\n",
       "      <td>btt zec</td>\n",
       "      <td>0.006173</td>\n",
       "    </tr>\n",
       "    <tr>\n",
       "      <th>...</th>\n",
       "      <td>...</td>\n",
       "      <td>...</td>\n",
       "    </tr>\n",
       "    <tr>\n",
       "      <th>94</th>\n",
       "      <td>neo ada</td>\n",
       "      <td>0.945824</td>\n",
       "    </tr>\n",
       "    <tr>\n",
       "      <th>65</th>\n",
       "      <td>xrp ada</td>\n",
       "      <td>0.972864</td>\n",
       "    </tr>\n",
       "    <tr>\n",
       "      <th>59</th>\n",
       "      <td>eth ada</td>\n",
       "      <td>0.979799</td>\n",
       "    </tr>\n",
       "    <tr>\n",
       "      <th>82</th>\n",
       "      <td>bnb ada</td>\n",
       "      <td>0.984689</td>\n",
       "    </tr>\n",
       "    <tr>\n",
       "      <th>55</th>\n",
       "      <td>btc ada</td>\n",
       "      <td>0.992308</td>\n",
       "    </tr>\n",
       "  </tbody>\n",
       "</table>\n",
       "<p>100 rows × 2 columns</p>\n",
       "</div>"
      ],
      "text/plain": [
       "        pair   p_value\n",
       "1    btt trx  0.000198\n",
       "69  link xmr  0.000622\n",
       "15   neo etc  0.002400\n",
       "46   xlm ltc  0.003382\n",
       "4    btt zec  0.006173\n",
       "..       ...       ...\n",
       "94   neo ada  0.945824\n",
       "65   xrp ada  0.972864\n",
       "59   eth ada  0.979799\n",
       "82   bnb ada  0.984689\n",
       "55   btc ada  0.992308\n",
       "\n",
       "[100 rows x 2 columns]"
      ]
     },
     "execution_count": 7,
     "metadata": {},
     "output_type": "execute_result"
    }
   ],
   "source": [
    "pd.DataFrame(p_values).sort_values(by='p_value')"
   ]
  },
  {
   "cell_type": "code",
   "execution_count": 9,
   "id": "4764df3a-9d05-4e19-b725-32d585fd7ae7",
   "metadata": {},
   "outputs": [
    {
     "name": "stdout",
     "output_type": "stream",
     "text": [
      "0.0024000501840154877\n"
     ]
    }
   ],
   "source": [
    "# Note: Orders matter slightly !\n",
    "b1, b0, adf_p = fit_model(df['neo'], df['etc'])\n",
    "print(adf_p)"
   ]
  }
 ],
 "metadata": {
  "kernelspec": {
   "display_name": "Python 3 (ipykernel)",
   "language": "python",
   "name": "python3"
  },
  "language_info": {
   "codemirror_mode": {
    "name": "ipython",
    "version": 3
   },
   "file_extension": ".py",
   "mimetype": "text/x-python",
   "name": "python",
   "nbconvert_exporter": "python",
   "pygments_lexer": "ipython3",
   "version": "3.8.12"
  }
 },
 "nbformat": 4,
 "nbformat_minor": 5
}
