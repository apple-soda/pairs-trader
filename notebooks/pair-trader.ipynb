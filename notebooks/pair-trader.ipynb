{
 "cells": [
  {
   "cell_type": "code",
   "execution_count": 1,
   "id": "18d30e2c-b8e6-4a09-b2c1-ce6fb00ccd60",
   "metadata": {},
   "outputs": [],
   "source": [
    "import sys\n",
    "sys.path.append('..')"
   ]
  },
  {
   "cell_type": "code",
   "execution_count": 2,
   "id": "4200f5c9-9682-4dbf-b6da-2e71e9b8c414",
   "metadata": {},
   "outputs": [],
   "source": [
    "import pandas as pd\n",
    "import seaborn as sns\n",
    "from core.tools import *"
   ]
  },
  {
   "cell_type": "code",
   "execution_count": 3,
   "id": "ade33081-f138-47d3-87a1-ac3f8b8f7d95",
   "metadata": {},
   "outputs": [],
   "source": [
    "df = pd.read_csv('data/crypto_1m.csv', index_col='unix')\n",
    "df = df[-60*24*2:-60*24*1] # pick highest cointegrated pairs from t-24 hours"
   ]
  },
  {
   "cell_type": "code",
   "execution_count": 4,
   "id": "45d824f3-3d94-49be-86e0-5cd95f18065f",
   "metadata": {},
   "outputs": [
    {
     "data": {
      "text/plain": [
       "<AxesSubplot:>"
      ]
     },
     "execution_count": 4,
     "metadata": {},
     "output_type": "execute_result"
    },
    {
     "data": {
      "image/png": "[encoded data removed]",
      "text/plain": [
       "<Figure size 432x288 with 2 Axes>"
      ]
     },
     "metadata": {
      "needs_background": "light"
     },
     "output_type": "display_data"
    }
   ],
   "source": [
    "corr = df.corr()\n",
    "sns.heatmap(corr)"
   ]
  },
  {
   "cell_type": "code",
   "execution_count": 5,
   "id": "582caf23-94a1-4253-9122-93f763aaaf7a",
   "metadata": {},
   "outputs": [
    {
     "data": {
      "text/plain": [
       "272"
      ]
     },
     "execution_count": 5,
     "metadata": {},
     "output_type": "execute_result"
    }
   ],
   "source": [
    "n = corr.shape[0]\n",
    "total_pairs = n**2 - n\n",
    "total_pairs"
   ]
  },
  {
   "cell_type": "code",
   "execution_count": 6,
   "id": "2fcd5b20-daa4-46f0-89c1-308653dd4dff",
   "metadata": {},
   "outputs": [
    {
     "data": {
      "text/plain": [
       "btc   eth     0.939586\n",
       "btt   trx     0.920895\n",
       "eth   bnb     0.905407\n",
       "xrp   eos     0.902367\n",
       "bnb   xrp     0.900645\n",
       "                ...   \n",
       "btt   neo     0.244836\n",
       "dash  btt     0.229084\n",
       "ada   bnb     0.214780\n",
       "      dash    0.200730\n",
       "etc   link    0.185636\n",
       "Length: 100, dtype: float64"
      ]
     },
     "execution_count": 6,
     "metadata": {},
     "output_type": "execute_result"
    }
   ],
   "source": [
    "def get_top_n_corr(corr, n):\n",
    "    return corr.unstack().sort_values(ascending=False)[corr.shape[0]:corr.shape[0]+n*2][::2]\n",
    "top_corr = get_top_n_corr(corr, 100)\n",
    "top_corr"
   ]
  },
  {
   "cell_type": "code",
   "execution_count": 7,
   "id": "43cbd247-4407-4d9c-b486-9c4791f284b2",
   "metadata": {},
   "outputs": [],
   "source": [
    "p_values = []\n",
    "for i, j in list(top_corr.axes[0]):\n",
    "    pair = i + ' ' + j\n",
    "    b1, b0, adf_p = fit_model(df[i], df[j])\n",
    "    p_values.append({'pair':pair, 'p_value':adf_p})"
   ]
  },
  {
   "cell_type": "code",
   "execution_count": 8,
   "id": "3c172e4e-0e59-4baf-a111-58799179be99",
   "metadata": {},
   "outputs": [
    {
     "data": {
      "text/html": [
       "<div>\n",
       "<style scoped>\n",
       "    .dataframe tbody tr th:only-of-type {\n",
       "        vertical-align: middle;\n",
       "    }\n",
       "\n",
       "    .dataframe tbody tr th {\n",
       "        vertical-align: top;\n",
       "    }\n",
       "\n",
       "    .dataframe thead th {\n",
       "        text-align: right;\n",
       "    }\n",
       "</style>\n",
       "<table border=\"1\" class=\"dataframe\">\n",
       "  <thead>\n",
       "    <tr style=\"text-align: right;\">\n",
       "      <th></th>\n",
       "      <th>pair</th>\n",
       "      <th>p_value</th>\n",
       "    </tr>\n",
       "  </thead>\n",
       "  <tbody>\n",
       "    <tr>\n",
       "      <th>8</th>\n",
       "      <td>etc neo</td>\n",
       "      <td>0.000241</td>\n",
       "    </tr>\n",
       "    <tr>\n",
       "      <th>1</th>\n",
       "      <td>btt trx</td>\n",
       "      <td>0.000527</td>\n",
       "    </tr>\n",
       "    <tr>\n",
       "      <th>9</th>\n",
       "      <td>zec eos</td>\n",
       "      <td>0.008250</td>\n",
       "    </tr>\n",
       "    <tr>\n",
       "      <th>37</th>\n",
       "      <td>xlm neo</td>\n",
       "      <td>0.008621</td>\n",
       "    </tr>\n",
       "    <tr>\n",
       "      <th>2</th>\n",
       "      <td>eth bnb</td>\n",
       "      <td>0.009453</td>\n",
       "    </tr>\n",
       "    <tr>\n",
       "      <th>...</th>\n",
       "      <td>...</td>\n",
       "      <td>...</td>\n",
       "    </tr>\n",
       "    <tr>\n",
       "      <th>44</th>\n",
       "      <td>xrp trx</td>\n",
       "      <td>0.967562</td>\n",
       "    </tr>\n",
       "    <tr>\n",
       "      <th>33</th>\n",
       "      <td>eth trx</td>\n",
       "      <td>0.973261</td>\n",
       "    </tr>\n",
       "    <tr>\n",
       "      <th>93</th>\n",
       "      <td>ltc trx</td>\n",
       "      <td>0.975945</td>\n",
       "    </tr>\n",
       "    <tr>\n",
       "      <th>90</th>\n",
       "      <td>eth ada</td>\n",
       "      <td>0.992485</td>\n",
       "    </tr>\n",
       "    <tr>\n",
       "      <th>89</th>\n",
       "      <td>btc ada</td>\n",
       "      <td>0.994627</td>\n",
       "    </tr>\n",
       "  </tbody>\n",
       "</table>\n",
       "<p>100 rows × 2 columns</p>\n",
       "</div>"
      ],
      "text/plain": [
       "       pair   p_value\n",
       "8   etc neo  0.000241\n",
       "1   btt trx  0.000527\n",
       "9   zec eos  0.008250\n",
       "37  xlm neo  0.008621\n",
       "2   eth bnb  0.009453\n",
       "..      ...       ...\n",
       "44  xrp trx  0.967562\n",
       "33  eth trx  0.973261\n",
       "93  ltc trx  0.975945\n",
       "90  eth ada  0.992485\n",
       "89  btc ada  0.994627\n",
       "\n",
       "[100 rows x 2 columns]"
      ]
     },
     "execution_count": 8,
     "metadata": {},
     "output_type": "execute_result"
    }
   ],
   "source": [
    "pd.DataFrame(p_values).sort_values(by='p_value')"
   ]
  },
  {
   "cell_type": "code",
   "execution_count": 9,
   "id": "4764df3a-9d05-4e19-b725-32d585fd7ae7",
   "metadata": {},
   "outputs": [
    {
     "name": "stdout",
     "output_type": "stream",
     "text": [
      "0.0022241656477388965\n"
     ]
    }
   ],
   "source": [
    "# Note: Orders matter slightly !\n",
    "b1, b0, adf_p = fit_model(df['neo'], df['etc'])\n",
    "print(adf_p)"
   ]
  }
 ],
 "metadata": {
  "kernelspec": {
   "display_name": "Python 3 (ipykernel)",
   "language": "python",
   "name": "python3"
  },
  "language_info": {
   "codemirror_mode": {
    "name": "ipython",
    "version": 3
   },
   "file_extension": ".py",
   "mimetype": "text/x-python",
   "name": "python",
   "nbconvert_exporter": "python",
   "pygments_lexer": "ipython3",
   "version": "3.8.12"
  }
 },
 "nbformat": 4,
 "nbformat_minor": 5
}
