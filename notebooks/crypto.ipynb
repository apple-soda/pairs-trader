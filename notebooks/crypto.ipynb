{
 "cells": [
  {
   "cell_type": "code",
   "execution_count": 1,
   "id": "fb9dadd0-c41e-4af6-96f1-b2458eab0675",
   "metadata": {},
   "outputs": [],
   "source": [
    "import sys\n",
    "sys.path.append('..')"
   ]
  },
  {
   "cell_type": "code",
   "execution_count": 2,
   "id": "9db26ad7-b2f3-43f2-9c1a-4617c162f66d",
   "metadata": {},
   "outputs": [],
   "source": [
    "import pandas as pd\n",
    "from functools import reduce"
   ]
  },
  {
   "cell_type": "code",
   "execution_count": 3,
   "id": "b077f788-8bdb-4095-9226-11754f1f792d",
   "metadata": {},
   "outputs": [],
   "source": [
    "def get_data(symbol, timeframe):\n",
    "    # http://www.cryptodatadownload.com/data/\n",
    "    # timeframe must be {'d', '1h', 'minute'}\n",
    "    url = f'http://www.cryptodatadownload.com/cdd/Binance_{symbol.upper()}USDT_{timeframe}.csv'\n",
    "    return pd.read_csv(url, skiprows=1)"
   ]
  },
  {
   "cell_type": "code",
   "execution_count": 4,
   "id": "b1f8ec28-7e3d-465d-b9d4-c816fee1980c",
   "metadata": {},
   "outputs": [],
   "source": [
    "symbols = ['btc', 'eth', 'ltc', 'neo', 'bnb', 'xrp', 'link', 'eos', 'trx', 'etc', 'xlm', 'zec', 'ada', 'qtum', 'dash', 'xmr', 'btt']"
   ]
  },
  {
   "cell_type": "code",
   "execution_count": 5,
   "id": "5f8384e7-9a9c-462d-adf5-fb1ee5923e38",
   "metadata": {},
   "outputs": [],
   "source": [
    "dfs = []\n",
    "for s in symbols:\n",
    "    df = get_data(s, 'minute')\n",
    "    df_clean = df.rename(columns={'close':s})[['unix', s]]\n",
    "    dfs.append(df_clean)"
   ]
  },
  {
   "cell_type": "code",
   "execution_count": 6,
   "id": "e482d4e5-0ab4-4cdc-8f1b-9b34a9a4b9bb",
   "metadata": {},
   "outputs": [],
   "source": [
    "f = lambda L, R: pd.merge(L, R, how='inner', on='unix')\n",
    "df = reduce(f, dfs)"
   ]
  },
  {
   "cell_type": "code",
   "execution_count": 7,
   "id": "5265d85e-f27a-45b0-82b0-cdc3715ce1ab",
   "metadata": {},
   "outputs": [],
   "source": [
    "df = df.sort_values('unix')\n",
    "df.to_csv('data/crypto_1m.csv', index=False)"
   ]
  }
 ],
 "metadata": {
  "kernelspec": {
   "display_name": "Python 3 (ipykernel)",
   "language": "python",
   "name": "python3"
  },
  "language_info": {
   "codemirror_mode": {
    "name": "ipython",
    "version": 3
   },
   "file_extension": ".py",
   "mimetype": "text/x-python",
   "name": "python",
   "nbconvert_exporter": "python",
   "pygments_lexer": "ipython3",
   "version": "3.8.12"
  }
 },
 "nbformat": 4,
 "nbformat_minor": 5
}
